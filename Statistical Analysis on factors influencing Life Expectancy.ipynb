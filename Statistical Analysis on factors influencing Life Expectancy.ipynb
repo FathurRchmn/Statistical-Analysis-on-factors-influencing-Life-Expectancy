{
 "cells": [
  {
   "cell_type": "markdown",
   "id": "8564135d",
   "metadata": {},
   "source": [
    "# PERKENALAN"
   ]
  },
  {
   "cell_type": "markdown",
   "id": "8af3f3d7",
   "metadata": {},
   "source": [
    "Name: Fathur Rachman\n",
    "\n",
    "Batch : 003 - FTDS"
   ]
  },
  {
   "cell_type": "markdown",
   "id": "d313bc3a",
   "metadata": {},
   "source": [
    "# IMPORT LIBRARY"
   ]
  },
  {
   "cell_type": "code",
   "execution_count": 1,
   "id": "509913cd",
   "metadata": {},
   "outputs": [],
   "source": [
    "# Basic Import:\n",
    "import numpy as np\n",
    "import pandas as pd\n",
    "import matplotlib.pyplot as plt\n",
    "import seaborn as sns\n",
    "\n",
    "#for report\n",
    "#from pandas_profiling import ProfileReport \n",
    "\n",
    "#ignore warnings\n",
    "import warnings\n",
    "warnings.filterwarnings('ignore')\n",
    "\n",
    "from sklearn.preprocessing import StandardScaler\n",
    "from sklearn.decomposition import PCA\n",
    "from sklearn.cluster import KMeans\n",
    "from sklearn.cluster import DBSCAN\n",
    "from sklearn.neighbors import NearestNeighbors"
   ]
  },
  {
   "cell_type": "markdown",
   "id": "53d382fc",
   "metadata": {},
   "source": [
    "# UPLOAD DATASET"
   ]
  },
  {
   "cell_type": "code",
   "execution_count": 2,
   "id": "82922e04",
   "metadata": {},
   "outputs": [
    {
     "data": {
      "text/html": [
       "<div>\n",
       "<style scoped>\n",
       "    .dataframe tbody tr th:only-of-type {\n",
       "        vertical-align: middle;\n",
       "    }\n",
       "\n",
       "    .dataframe tbody tr th {\n",
       "        vertical-align: top;\n",
       "    }\n",
       "\n",
       "    .dataframe thead th {\n",
       "        text-align: right;\n",
       "    }\n",
       "</style>\n",
       "<table border=\"1\" class=\"dataframe\">\n",
       "  <thead>\n",
       "    <tr style=\"text-align: right;\">\n",
       "      <th></th>\n",
       "      <th>Rank</th>\n",
       "      <th>Country</th>\n",
       "      <th>Overall Life</th>\n",
       "      <th>Male Life</th>\n",
       "      <th>Female Life</th>\n",
       "      <th>Continent</th>\n",
       "    </tr>\n",
       "  </thead>\n",
       "  <tbody>\n",
       "    <tr>\n",
       "      <th>0</th>\n",
       "      <td>1</td>\n",
       "      <td>Monaco</td>\n",
       "      <td>89.5</td>\n",
       "      <td>85.6</td>\n",
       "      <td>93.5</td>\n",
       "      <td>Europe</td>\n",
       "    </tr>\n",
       "    <tr>\n",
       "      <th>1</th>\n",
       "      <td>2</td>\n",
       "      <td>Japan</td>\n",
       "      <td>85.0</td>\n",
       "      <td>81.7</td>\n",
       "      <td>88.5</td>\n",
       "      <td>Asia</td>\n",
       "    </tr>\n",
       "    <tr>\n",
       "      <th>2</th>\n",
       "      <td>3</td>\n",
       "      <td>Singapore</td>\n",
       "      <td>85.0</td>\n",
       "      <td>82.3</td>\n",
       "      <td>87.8</td>\n",
       "      <td>Asia</td>\n",
       "    </tr>\n",
       "    <tr>\n",
       "      <th>3</th>\n",
       "      <td>4</td>\n",
       "      <td>Macau; China</td>\n",
       "      <td>84.5</td>\n",
       "      <td>81.6</td>\n",
       "      <td>87.6</td>\n",
       "      <td>Asia</td>\n",
       "    </tr>\n",
       "    <tr>\n",
       "      <th>4</th>\n",
       "      <td>5</td>\n",
       "      <td>San Marino</td>\n",
       "      <td>83.3</td>\n",
       "      <td>80.7</td>\n",
       "      <td>86.1</td>\n",
       "      <td>Europe</td>\n",
       "    </tr>\n",
       "  </tbody>\n",
       "</table>\n",
       "</div>"
      ],
      "text/plain": [
       "   Rank       Country  Overall Life  Male Life  Female Life Continent\n",
       "0     1        Monaco          89.5       85.6         93.5    Europe\n",
       "1     2         Japan          85.0       81.7         88.5      Asia\n",
       "2     3     Singapore          85.0       82.3         87.8      Asia\n",
       "3     4  Macau; China          84.5       81.6         87.6      Asia\n",
       "4     5    San Marino          83.3       80.7         86.1    Europe"
      ]
     },
     "execution_count": 2,
     "metadata": {},
     "output_type": "execute_result"
    }
   ],
   "source": [
    "data = pd.read_csv('Life_expectancy_dataset.csv')\n",
    "data.head()"
   ]
  },
  {
   "cell_type": "code",
   "execution_count": 3,
   "id": "035926d4",
   "metadata": {},
   "outputs": [
    {
     "data": {
      "text/html": [
       "<div>\n",
       "<style scoped>\n",
       "    .dataframe tbody tr th:only-of-type {\n",
       "        vertical-align: middle;\n",
       "    }\n",
       "\n",
       "    .dataframe tbody tr th {\n",
       "        vertical-align: top;\n",
       "    }\n",
       "\n",
       "    .dataframe thead th {\n",
       "        text-align: right;\n",
       "    }\n",
       "</style>\n",
       "<table border=\"1\" class=\"dataframe\">\n",
       "  <thead>\n",
       "    <tr style=\"text-align: right;\">\n",
       "      <th></th>\n",
       "      <th>Rank</th>\n",
       "      <th>Country</th>\n",
       "      <th>Overall Life</th>\n",
       "      <th>Male Life</th>\n",
       "      <th>Female Life</th>\n",
       "      <th>Continent</th>\n",
       "    </tr>\n",
       "  </thead>\n",
       "  <tbody>\n",
       "    <tr>\n",
       "      <th>218</th>\n",
       "      <td>219</td>\n",
       "      <td>Gabon</td>\n",
       "      <td>52.1</td>\n",
       "      <td>51.6</td>\n",
       "      <td>52.5</td>\n",
       "      <td>Africa</td>\n",
       "    </tr>\n",
       "    <tr>\n",
       "      <th>219</th>\n",
       "      <td>220</td>\n",
       "      <td>Swaziland</td>\n",
       "      <td>51.6</td>\n",
       "      <td>52.2</td>\n",
       "      <td>51.0</td>\n",
       "      <td>Africa</td>\n",
       "    </tr>\n",
       "    <tr>\n",
       "      <th>220</th>\n",
       "      <td>221</td>\n",
       "      <td>Afghanistan</td>\n",
       "      <td>51.3</td>\n",
       "      <td>49.9</td>\n",
       "      <td>52.7</td>\n",
       "      <td>Asia</td>\n",
       "    </tr>\n",
       "    <tr>\n",
       "      <th>221</th>\n",
       "      <td>222</td>\n",
       "      <td>Guinea-Bissau</td>\n",
       "      <td>50.6</td>\n",
       "      <td>48.6</td>\n",
       "      <td>52.7</td>\n",
       "      <td>Africa</td>\n",
       "    </tr>\n",
       "    <tr>\n",
       "      <th>222</th>\n",
       "      <td>223</td>\n",
       "      <td>Chad</td>\n",
       "      <td>50.2</td>\n",
       "      <td>49.0</td>\n",
       "      <td>51.3</td>\n",
       "      <td>Africa</td>\n",
       "    </tr>\n",
       "  </tbody>\n",
       "</table>\n",
       "</div>"
      ],
      "text/plain": [
       "     Rank        Country  Overall Life  Male Life  Female Life Continent\n",
       "218   219          Gabon          52.1       51.6         52.5    Africa\n",
       "219   220      Swaziland          51.6       52.2         51.0    Africa\n",
       "220   221    Afghanistan          51.3       49.9         52.7      Asia\n",
       "221   222  Guinea-Bissau          50.6       48.6         52.7    Africa\n",
       "222   223           Chad          50.2       49.0         51.3    Africa"
      ]
     },
     "execution_count": 3,
     "metadata": {},
     "output_type": "execute_result"
    }
   ],
   "source": [
    "data.tail()"
   ]
  },
  {
   "cell_type": "code",
   "execution_count": 4,
   "id": "6a363ea2",
   "metadata": {},
   "outputs": [
    {
     "name": "stdout",
     "output_type": "stream",
     "text": [
      "<class 'pandas.core.frame.DataFrame'>\n",
      "RangeIndex: 223 entries, 0 to 222\n",
      "Data columns (total 6 columns):\n",
      " #   Column        Non-Null Count  Dtype  \n",
      "---  ------        --------------  -----  \n",
      " 0   Rank          223 non-null    int64  \n",
      " 1   Country       223 non-null    object \n",
      " 2   Overall Life  223 non-null    float64\n",
      " 3   Male Life     223 non-null    float64\n",
      " 4   Female Life   223 non-null    float64\n",
      " 5   Continent     223 non-null    object \n",
      "dtypes: float64(3), int64(1), object(2)\n",
      "memory usage: 10.6+ KB\n"
     ]
    }
   ],
   "source": [
    "data.info()"
   ]
  },
  {
   "cell_type": "code",
   "execution_count": 5,
   "id": "a691332a",
   "metadata": {},
   "outputs": [
    {
     "data": {
      "text/plain": [
       "(223, 6)"
      ]
     },
     "execution_count": 5,
     "metadata": {},
     "output_type": "execute_result"
    }
   ],
   "source": [
    "data.shape"
   ]
  },
  {
   "cell_type": "markdown",
   "id": "517b4da0",
   "metadata": {},
   "source": [
    "# DATA CLEANING"
   ]
  },
  {
   "cell_type": "code",
   "execution_count": 6,
   "id": "e17e8f95",
   "metadata": {},
   "outputs": [
    {
     "data": {
      "text/html": [
       "<div>\n",
       "<style scoped>\n",
       "    .dataframe tbody tr th:only-of-type {\n",
       "        vertical-align: middle;\n",
       "    }\n",
       "\n",
       "    .dataframe tbody tr th {\n",
       "        vertical-align: top;\n",
       "    }\n",
       "\n",
       "    .dataframe thead th {\n",
       "        text-align: right;\n",
       "    }\n",
       "</style>\n",
       "<table border=\"1\" class=\"dataframe\">\n",
       "  <thead>\n",
       "    <tr style=\"text-align: right;\">\n",
       "      <th></th>\n",
       "      <th>count</th>\n",
       "      <th>mean</th>\n",
       "      <th>std</th>\n",
       "      <th>min</th>\n",
       "      <th>25%</th>\n",
       "      <th>50%</th>\n",
       "      <th>75%</th>\n",
       "      <th>max</th>\n",
       "    </tr>\n",
       "  </thead>\n",
       "  <tbody>\n",
       "    <tr>\n",
       "      <th>Rank</th>\n",
       "      <td>223.0</td>\n",
       "      <td>112.000000</td>\n",
       "      <td>64.518731</td>\n",
       "      <td>1.0</td>\n",
       "      <td>56.50</td>\n",
       "      <td>112.0</td>\n",
       "      <td>167.50</td>\n",
       "      <td>223.0</td>\n",
       "    </tr>\n",
       "    <tr>\n",
       "      <th>Overall Life</th>\n",
       "      <td>223.0</td>\n",
       "      <td>72.487892</td>\n",
       "      <td>8.459335</td>\n",
       "      <td>50.2</td>\n",
       "      <td>67.45</td>\n",
       "      <td>74.9</td>\n",
       "      <td>78.60</td>\n",
       "      <td>89.5</td>\n",
       "    </tr>\n",
       "    <tr>\n",
       "      <th>Male Life</th>\n",
       "      <td>223.0</td>\n",
       "      <td>70.041704</td>\n",
       "      <td>8.074942</td>\n",
       "      <td>48.6</td>\n",
       "      <td>64.50</td>\n",
       "      <td>72.2</td>\n",
       "      <td>75.85</td>\n",
       "      <td>85.6</td>\n",
       "    </tr>\n",
       "    <tr>\n",
       "      <th>Female Life</th>\n",
       "      <td>223.0</td>\n",
       "      <td>75.019283</td>\n",
       "      <td>8.986633</td>\n",
       "      <td>51.0</td>\n",
       "      <td>69.75</td>\n",
       "      <td>77.9</td>\n",
       "      <td>81.60</td>\n",
       "      <td>93.5</td>\n",
       "    </tr>\n",
       "  </tbody>\n",
       "</table>\n",
       "</div>"
      ],
      "text/plain": [
       "              count        mean        std   min    25%    50%     75%    max\n",
       "Rank          223.0  112.000000  64.518731   1.0  56.50  112.0  167.50  223.0\n",
       "Overall Life  223.0   72.487892   8.459335  50.2  67.45   74.9   78.60   89.5\n",
       "Male Life     223.0   70.041704   8.074942  48.6  64.50   72.2   75.85   85.6\n",
       "Female Life   223.0   75.019283   8.986633  51.0  69.75   77.9   81.60   93.5"
      ]
     },
     "execution_count": 6,
     "metadata": {},
     "output_type": "execute_result"
    }
   ],
   "source": [
    "data.describe().T"
   ]
  },
  {
   "cell_type": "code",
   "execution_count": 7,
   "id": "cc5d2f5e",
   "metadata": {},
   "outputs": [
    {
     "data": {
      "text/plain": [
       "Rank            0\n",
       "Country         0\n",
       "Overall Life    0\n",
       "Male Life       0\n",
       "Female Life     0\n",
       "Continent       0\n",
       "dtype: int64"
      ]
     },
     "execution_count": 7,
     "metadata": {},
     "output_type": "execute_result"
    }
   ],
   "source": [
    "#mengecek missing value\n",
    "\n",
    "data.isnull().sum()"
   ]
  },
  {
   "cell_type": "code",
   "execution_count": 8,
   "id": "a96b2f96",
   "metadata": {},
   "outputs": [
    {
     "data": {
      "text/plain": [
       "0"
      ]
     },
     "execution_count": 8,
     "metadata": {},
     "output_type": "execute_result"
    }
   ],
   "source": [
    "#mengecek duplikat pada dataset\n",
    "\n",
    "data.duplicated().sum()"
   ]
  },
  {
   "cell_type": "markdown",
   "id": "4e2b0074",
   "metadata": {},
   "source": [
    "#### Membuat Kolom Rasio dan Perbedaan Umur Antara Pria dan Wanita "
   ]
  },
  {
   "cell_type": "code",
   "execution_count": 9,
   "id": "d2647408",
   "metadata": {},
   "outputs": [],
   "source": [
    "#buat kolom baru\n",
    "\n",
    "data['Ratio'] = data['Male Life']/data['Female Life']\n",
    "data['Difference'] = - data['Male Life'] + data['Female Life']"
   ]
  },
  {
   "cell_type": "code",
   "execution_count": 10,
   "id": "c9e7ce6b",
   "metadata": {},
   "outputs": [
    {
     "data": {
      "text/plain": [
       "Index(['Rank', 'Country', 'Overall Life', 'Male Life', 'Female Life',\n",
       "       'Continent', 'Ratio', 'Difference'],\n",
       "      dtype='object')"
      ]
     },
     "execution_count": 10,
     "metadata": {},
     "output_type": "execute_result"
    }
   ],
   "source": [
    "data.columns"
   ]
  },
  {
   "cell_type": "code",
   "execution_count": 11,
   "id": "625e1edc",
   "metadata": {},
   "outputs": [],
   "source": [
    "#split data kategori dan numerik\n",
    "\n",
    "num_data = data[['Overall Life','Male Life','Female Life','Ratio','Difference']]\n",
    "cat_data = data[['Rank','Continent']]"
   ]
  },
  {
   "cell_type": "markdown",
   "id": "b9d55483",
   "metadata": {},
   "source": [
    "# Eksplorasi Data"
   ]
  },
  {
   "cell_type": "code",
   "execution_count": 12,
   "id": "8305d60d",
   "metadata": {},
   "outputs": [
    {
     "data": {
      "image/png": "[encoded data removed]",
      "text/plain": [
       "<Figure size 1440x1080 with 6 Axes>"
      ]
     },
     "metadata": {
      "needs_background": "light"
     },
     "output_type": "display_data"
    }
   ],
   "source": [
    "#distribusi data numerik\n",
    "\n",
    "fig = plt.figure(figsize=(20,15))\n",
    "ax = fig.gca();\n",
    "num_data.hist(ax=ax, color='#00008B')\n",
    "plt.show()"
   ]
  },
  {
   "cell_type": "markdown",
   "id": "5b0b98bd",
   "metadata": {},
   "source": [
    "Berdasarkan persebaran data usia di seluruh dunia, secara umum overall age (wanita dan pria) memiliki paling banyak di usia 75 tahun. Begitupun dengan usia hidup pria dan wanita. Namun, terjadi sedikit perbedaan pada usia hidup wanita yang sedikit lebih kecil dibandingkan dengan umur hidup pria."
   ]
  },
  {
   "cell_type": "code",
   "execution_count": 13,
   "id": "8f1683a7",
   "metadata": {},
   "outputs": [
    {
     "data": {
      "text/html": [
       "<div>\n",
       "<style scoped>\n",
       "    .dataframe tbody tr th:only-of-type {\n",
       "        vertical-align: middle;\n",
       "    }\n",
       "\n",
       "    .dataframe tbody tr th {\n",
       "        vertical-align: top;\n",
       "    }\n",
       "\n",
       "    .dataframe thead th {\n",
       "        text-align: right;\n",
       "    }\n",
       "</style>\n",
       "<table border=\"1\" class=\"dataframe\">\n",
       "  <thead>\n",
       "    <tr style=\"text-align: right;\">\n",
       "      <th></th>\n",
       "      <th>Rank</th>\n",
       "      <th>Country</th>\n",
       "      <th>Overall Life</th>\n",
       "      <th>Male Life</th>\n",
       "      <th>Female Life</th>\n",
       "      <th>Continent</th>\n",
       "      <th>Ratio</th>\n",
       "      <th>Difference</th>\n",
       "    </tr>\n",
       "  </thead>\n",
       "  <tbody>\n",
       "    <tr>\n",
       "      <th>0</th>\n",
       "      <td>1</td>\n",
       "      <td>Monaco</td>\n",
       "      <td>89.5</td>\n",
       "      <td>85.6</td>\n",
       "      <td>93.5</td>\n",
       "      <td>Europe</td>\n",
       "      <td>0.915508</td>\n",
       "      <td>7.9</td>\n",
       "    </tr>\n",
       "    <tr>\n",
       "      <th>1</th>\n",
       "      <td>2</td>\n",
       "      <td>Japan</td>\n",
       "      <td>85.0</td>\n",
       "      <td>81.7</td>\n",
       "      <td>88.5</td>\n",
       "      <td>Asia</td>\n",
       "      <td>0.923164</td>\n",
       "      <td>6.8</td>\n",
       "    </tr>\n",
       "    <tr>\n",
       "      <th>2</th>\n",
       "      <td>3</td>\n",
       "      <td>Singapore</td>\n",
       "      <td>85.0</td>\n",
       "      <td>82.3</td>\n",
       "      <td>87.8</td>\n",
       "      <td>Asia</td>\n",
       "      <td>0.937358</td>\n",
       "      <td>5.5</td>\n",
       "    </tr>\n",
       "    <tr>\n",
       "      <th>3</th>\n",
       "      <td>4</td>\n",
       "      <td>Macau; China</td>\n",
       "      <td>84.5</td>\n",
       "      <td>81.6</td>\n",
       "      <td>87.6</td>\n",
       "      <td>Asia</td>\n",
       "      <td>0.931507</td>\n",
       "      <td>6.0</td>\n",
       "    </tr>\n",
       "    <tr>\n",
       "      <th>4</th>\n",
       "      <td>5</td>\n",
       "      <td>San Marino</td>\n",
       "      <td>83.3</td>\n",
       "      <td>80.7</td>\n",
       "      <td>86.1</td>\n",
       "      <td>Europe</td>\n",
       "      <td>0.937282</td>\n",
       "      <td>5.4</td>\n",
       "    </tr>\n",
       "  </tbody>\n",
       "</table>\n",
       "</div>"
      ],
      "text/plain": [
       "   Rank       Country  Overall Life  Male Life  Female Life Continent  \\\n",
       "0     1        Monaco          89.5       85.6         93.5    Europe   \n",
       "1     2         Japan          85.0       81.7         88.5      Asia   \n",
       "2     3     Singapore          85.0       82.3         87.8      Asia   \n",
       "3     4  Macau; China          84.5       81.6         87.6      Asia   \n",
       "4     5    San Marino          83.3       80.7         86.1    Europe   \n",
       "\n",
       "      Ratio  Difference  \n",
       "0  0.915508         7.9  \n",
       "1  0.923164         6.8  \n",
       "2  0.937358         5.5  \n",
       "3  0.931507         6.0  \n",
       "4  0.937282         5.4  "
      ]
     },
     "execution_count": 13,
     "metadata": {},
     "output_type": "execute_result"
    }
   ],
   "source": [
    "data.head()"
   ]
  },
  {
   "cell_type": "markdown",
   "id": "cd23f0b9",
   "metadata": {},
   "source": [
    "##### Ratio & Difference"
   ]
  },
  {
   "cell_type": "code",
   "execution_count": 14,
   "id": "3858617f",
   "metadata": {},
   "outputs": [
    {
     "data": {
      "text/html": [
       "<div>\n",
       "<style scoped>\n",
       "    .dataframe tbody tr th:only-of-type {\n",
       "        vertical-align: middle;\n",
       "    }\n",
       "\n",
       "    .dataframe tbody tr th {\n",
       "        vertical-align: top;\n",
       "    }\n",
       "\n",
       "    .dataframe thead th {\n",
       "        text-align: right;\n",
       "    }\n",
       "</style>\n",
       "<table border=\"1\" class=\"dataframe\">\n",
       "  <thead>\n",
       "    <tr style=\"text-align: right;\">\n",
       "      <th></th>\n",
       "      <th>Rank</th>\n",
       "      <th>Country</th>\n",
       "      <th>Overall Life</th>\n",
       "      <th>Male Life</th>\n",
       "      <th>Female Life</th>\n",
       "      <th>Continent</th>\n",
       "      <th>Ratio</th>\n",
       "      <th>Difference</th>\n",
       "    </tr>\n",
       "  </thead>\n",
       "  <tbody>\n",
       "    <tr>\n",
       "      <th>155</th>\n",
       "      <td>156</td>\n",
       "      <td>Russia</td>\n",
       "      <td>70.3</td>\n",
       "      <td>64.3</td>\n",
       "      <td>76.4</td>\n",
       "      <td>Asia</td>\n",
       "      <td>0.841623</td>\n",
       "      <td>12.1</td>\n",
       "    </tr>\n",
       "    <tr>\n",
       "      <th>137</th>\n",
       "      <td>138</td>\n",
       "      <td>Belarus</td>\n",
       "      <td>72.7</td>\n",
       "      <td>67.2</td>\n",
       "      <td>78.6</td>\n",
       "      <td>Europe</td>\n",
       "      <td>0.854962</td>\n",
       "      <td>11.4</td>\n",
       "    </tr>\n",
       "    <tr>\n",
       "      <th>111</th>\n",
       "      <td>112</td>\n",
       "      <td>Lithuania</td>\n",
       "      <td>74.9</td>\n",
       "      <td>69.5</td>\n",
       "      <td>80.6</td>\n",
       "      <td>Europe</td>\n",
       "      <td>0.862283</td>\n",
       "      <td>11.1</td>\n",
       "    </tr>\n",
       "    <tr>\n",
       "      <th>150</th>\n",
       "      <td>151</td>\n",
       "      <td>Kazakhstan</td>\n",
       "      <td>70.8</td>\n",
       "      <td>65.6</td>\n",
       "      <td>75.7</td>\n",
       "      <td>Asia</td>\n",
       "      <td>0.866579</td>\n",
       "      <td>10.1</td>\n",
       "    </tr>\n",
       "    <tr>\n",
       "      <th>147</th>\n",
       "      <td>148</td>\n",
       "      <td>Ukraine</td>\n",
       "      <td>71.8</td>\n",
       "      <td>67.1</td>\n",
       "      <td>76.9</td>\n",
       "      <td>Europe</td>\n",
       "      <td>0.872562</td>\n",
       "      <td>9.8</td>\n",
       "    </tr>\n",
       "  </tbody>\n",
       "</table>\n",
       "</div>"
      ],
      "text/plain": [
       "     Rank     Country  Overall Life  Male Life  Female Life Continent  \\\n",
       "155   156      Russia          70.3       64.3         76.4      Asia   \n",
       "137   138     Belarus          72.7       67.2         78.6    Europe   \n",
       "111   112   Lithuania          74.9       69.5         80.6    Europe   \n",
       "150   151  Kazakhstan          70.8       65.6         75.7      Asia   \n",
       "147   148     Ukraine          71.8       67.1         76.9    Europe   \n",
       "\n",
       "        Ratio  Difference  \n",
       "155  0.841623        12.1  \n",
       "137  0.854962        11.4  \n",
       "111  0.862283        11.1  \n",
       "150  0.866579        10.1  \n",
       "147  0.872562         9.8  "
      ]
     },
     "execution_count": 14,
     "metadata": {},
     "output_type": "execute_result"
    }
   ],
   "source": [
    "ratio = data.sort_values(by='Ratio')\n",
    "ratio.head()"
   ]
  },
  {
   "cell_type": "code",
   "execution_count": 15,
   "id": "8645c022",
   "metadata": {},
   "outputs": [
    {
     "data": {
      "text/html": [
       "<div>\n",
       "<style scoped>\n",
       "    .dataframe tbody tr th:only-of-type {\n",
       "        vertical-align: middle;\n",
       "    }\n",
       "\n",
       "    .dataframe tbody tr th {\n",
       "        vertical-align: top;\n",
       "    }\n",
       "\n",
       "    .dataframe thead th {\n",
       "        text-align: right;\n",
       "    }\n",
       "</style>\n",
       "<table border=\"1\" class=\"dataframe\">\n",
       "  <thead>\n",
       "    <tr style=\"text-align: right;\">\n",
       "      <th></th>\n",
       "      <th>Rank</th>\n",
       "      <th>Country</th>\n",
       "      <th>Overall Life</th>\n",
       "      <th>Male Life</th>\n",
       "      <th>Female Life</th>\n",
       "      <th>Continent</th>\n",
       "      <th>Ratio</th>\n",
       "      <th>Difference</th>\n",
       "    </tr>\n",
       "  </thead>\n",
       "  <tbody>\n",
       "    <tr>\n",
       "      <th>153</th>\n",
       "      <td>154</td>\n",
       "      <td>Nepal</td>\n",
       "      <td>70.7</td>\n",
       "      <td>70.1</td>\n",
       "      <td>71.3</td>\n",
       "      <td>Asia</td>\n",
       "      <td>0.983170</td>\n",
       "      <td>1.2</td>\n",
       "    </tr>\n",
       "    <tr>\n",
       "      <th>214</th>\n",
       "      <td>215</td>\n",
       "      <td>Lesotho</td>\n",
       "      <td>53.0</td>\n",
       "      <td>52.9</td>\n",
       "      <td>53.1</td>\n",
       "      <td>Africa</td>\n",
       "      <td>0.996234</td>\n",
       "      <td>0.2</td>\n",
       "    </tr>\n",
       "    <tr>\n",
       "      <th>219</th>\n",
       "      <td>220</td>\n",
       "      <td>Swaziland</td>\n",
       "      <td>51.6</td>\n",
       "      <td>52.2</td>\n",
       "      <td>51.0</td>\n",
       "      <td>Africa</td>\n",
       "      <td>1.023529</td>\n",
       "      <td>-1.2</td>\n",
       "    </tr>\n",
       "    <tr>\n",
       "      <th>121</th>\n",
       "      <td>122</td>\n",
       "      <td>Montserrat</td>\n",
       "      <td>74.4</td>\n",
       "      <td>75.8</td>\n",
       "      <td>72.9</td>\n",
       "      <td>North America</td>\n",
       "      <td>1.039781</td>\n",
       "      <td>-2.9</td>\n",
       "    </tr>\n",
       "    <tr>\n",
       "      <th>211</th>\n",
       "      <td>212</td>\n",
       "      <td>Botswana</td>\n",
       "      <td>54.5</td>\n",
       "      <td>56.3</td>\n",
       "      <td>52.6</td>\n",
       "      <td>Africa</td>\n",
       "      <td>1.070342</td>\n",
       "      <td>-3.7</td>\n",
       "    </tr>\n",
       "  </tbody>\n",
       "</table>\n",
       "</div>"
      ],
      "text/plain": [
       "     Rank     Country  Overall Life  Male Life  Female Life      Continent  \\\n",
       "153   154       Nepal          70.7       70.1         71.3           Asia   \n",
       "214   215     Lesotho          53.0       52.9         53.1         Africa   \n",
       "219   220   Swaziland          51.6       52.2         51.0         Africa   \n",
       "121   122  Montserrat          74.4       75.8         72.9  North America   \n",
       "211   212    Botswana          54.5       56.3         52.6         Africa   \n",
       "\n",
       "        Ratio  Difference  \n",
       "153  0.983170         1.2  \n",
       "214  0.996234         0.2  \n",
       "219  1.023529        -1.2  \n",
       "121  1.039781        -2.9  \n",
       "211  1.070342        -3.7  "
      ]
     },
     "execution_count": 15,
     "metadata": {},
     "output_type": "execute_result"
    }
   ],
   "source": [
    "ratio.tail()"
   ]
  },
  {
   "cell_type": "markdown",
   "id": "7638c289",
   "metadata": {},
   "source": [
    "Dalam kolom terlihat bahwa semakin nilai ratio mendekati 1, maka umur pria akan lebih besar dibandingkan dengan umur wanita. Ratio paling besar terjadi di negara kontinen Asia dan Eropa, dimana rata-rata umur pria dan wanita memiliki perbedaan yang sangat jauh hingga 10 kali. Berbeda dengan negara di kontinen Afrika yang masa hidup prianya lebih besar dibandingkan dengan wanita."
   ]
  },
  {
   "cell_type": "code",
   "execution_count": 16,
   "id": "3df72800",
   "metadata": {},
   "outputs": [],
   "source": [
    "#report_data = ProfileReport(data.sample(100))\n",
    "#report_data"
   ]
  },
  {
   "cell_type": "markdown",
   "id": "a0e65853",
   "metadata": {},
   "source": [
    "Setelah melakukan perhitungan dengan profiling Report, didapatkan hasil yang lebih masuk akal. Semua variabel memiliki korelasi antar satu sama lain."
   ]
  },
  {
   "cell_type": "markdown",
   "id": "ff7f61ba",
   "metadata": {},
   "source": [
    "# Data Preprocessing"
   ]
  },
  {
   "cell_type": "markdown",
   "id": "c7174826",
   "metadata": {},
   "source": [
    "## Scaling data numerik"
   ]
  },
  {
   "cell_type": "code",
   "execution_count": 17,
   "id": "fe0d5ff8",
   "metadata": {},
   "outputs": [],
   "source": [
    "#scaling data numerik\n",
    "\n",
    "scaler = StandardScaler()\n",
    "\n",
    "#fit and transform\n",
    "num_fnt = scaler.fit_transform(num_data)"
   ]
  },
  {
   "cell_type": "markdown",
   "id": "5a27153d",
   "metadata": {},
   "source": [
    "## PCA"
   ]
  },
  {
   "cell_type": "markdown",
   "id": "4560e0fd",
   "metadata": {},
   "source": [
    "pengurangan dimensi digunakan setelah kita melihat ada atau tidak adanya korelasi antar kolom. Berdasarkan dari Profiling Report, didapatkan bahwa semua kolom memiliki korelasi yang tinggi.\n",
    "\n",
    "Tujuan penggunakan PCA adalah untuk mendapatkan dimensi terbaik namun dapat mewakili 99% dari data."
   ]
  },
  {
   "cell_type": "code",
   "execution_count": 18,
   "id": "7a8785ba",
   "metadata": {},
   "outputs": [
    {
     "data": {
      "text/plain": [
       "(223, 5)"
      ]
     },
     "execution_count": 18,
     "metadata": {},
     "output_type": "execute_result"
    }
   ],
   "source": [
    "num_data.shape"
   ]
  },
  {
   "cell_type": "code",
   "execution_count": 19,
   "id": "d12002fc",
   "metadata": {},
   "outputs": [
    {
     "data": {
      "text/plain": [
       "PCA(n_components=5)"
      ]
     },
     "execution_count": 19,
     "metadata": {},
     "output_type": "execute_result"
    }
   ],
   "source": [
    "#Pendefinisian PCA\n",
    "\n",
    "pca1 = PCA(n_components=5)\n",
    "pca1.fit(num_data)"
   ]
  },
  {
   "cell_type": "code",
   "execution_count": 20,
   "id": "d568aebb",
   "metadata": {},
   "outputs": [
    {
     "data": {
      "image/png": "[encoded data removed]",
      "text/plain": [
       "<Figure size 1440x360 with 2 Axes>"
      ]
     },
     "metadata": {
      "needs_background": "light"
     },
     "output_type": "display_data"
    }
   ],
   "source": [
    "#mencari rasio variance terbak yang dijelaskan oleh kumulatif\n",
    "\n",
    "fig,ax = plt.subplots(ncols=2, figsize=(20,5))\n",
    "\n",
    "ax[0].plot(range(1,6), pca1.explained_variance_ratio_ ,marker='o')\n",
    "ax[0].set_xlabel('Component')\n",
    "ax[0].set_ylabel('Explained Variance Ratio')\n",
    "ax[0].set_title(\"Explained Variance Ratio\")\n",
    "\n",
    "ax[1].plot(range(1,6), np.cumsum(pca1.explained_variance_ratio_), marker='o')\n",
    "ax[1].axhline(y = 0.999, color = 'r', linestyle = 'dashed') \n",
    "ax[1].set_xlabel('Component')\n",
    "ax[1].set_ylabel('Cumulative Explained Variance Ratio')\n",
    "ax[1].set_title(\"Cumulative Explained Variance Ratio\")\n",
    "plt.show()"
   ]
  },
  {
   "cell_type": "markdown",
   "id": "f26011bc",
   "metadata": {},
   "source": [
    "Dapat terlihat dari hasil uji explained variance ratio dan cumulative explained variance ratio didapatkan bahwa nilai yang lebih baik untuk PCA n_components adalah 2."
   ]
  },
  {
   "cell_type": "code",
   "execution_count": 21,
   "id": "ac2da145",
   "metadata": {},
   "outputs": [],
   "source": [
    "#PCA 2 dimensi\n",
    "\n",
    "pca2 = PCA(n_components=1)\n",
    "X_train = pca2.fit_transform(num_fnt)"
   ]
  },
  {
   "cell_type": "markdown",
   "id": "0a85fa7b",
   "metadata": {},
   "source": [
    "# PELATIHAN MODEL"
   ]
  },
  {
   "cell_type": "markdown",
   "id": "b54b1ae1",
   "metadata": {},
   "source": [
    "## KMeans Clustering "
   ]
  },
  {
   "cell_type": "markdown",
   "id": "5e227930",
   "metadata": {},
   "source": [
    "### Mencari Cluster Optimal"
   ]
  },
  {
   "cell_type": "code",
   "execution_count": 22,
   "id": "46c8b4b8",
   "metadata": {},
   "outputs": [
    {
     "data": {
      "image/png": "[encoded data removed]",
      "text/plain": [
       "<Figure size 1152x576 with 1 Axes>"
      ]
     },
     "metadata": {
      "needs_background": "light"
     },
     "output_type": "display_data"
    }
   ],
   "source": [
    "wcss = []\n",
    "\n",
    "for i in range(1, 6):\n",
    "  km = KMeans(n_clusters=i, init = 'k-means++', max_iter = 300, n_init = 10, random_state = 100)\n",
    "  km.fit(X_train)\n",
    "  wcss.append(km.inertia_)\n",
    "\n",
    "plt.figure(figsize=(16,8))\n",
    "plt.plot(range(1, 6), wcss, marker =\"o\")\n",
    "plt.title('The Elbow Method', fontsize = 20)\n",
    "plt.xlabel('No. of Clusters')\n",
    "plt.ylabel('wcss')\n",
    "plt.show()"
   ]
  },
  {
   "cell_type": "markdown",
   "id": "506d05c5",
   "metadata": {},
   "source": [
    "Berdasarkan hasil dari perhitungan elbow method, didapatkan hasil terbaik penggunaan kluster adalah 2"
   ]
  },
  {
   "cell_type": "code",
   "execution_count": 23,
   "id": "8512a667",
   "metadata": {},
   "outputs": [
    {
     "data": {
      "text/plain": [
       "KMeans(n_clusters=2, random_state=100)"
      ]
     },
     "execution_count": 23,
     "metadata": {},
     "output_type": "execute_result"
    }
   ],
   "source": [
    "km2 = KMeans(n_clusters=2, init='k-means++', max_iter=300, n_init=10, random_state=100)\n",
    "km2.fit(X_train)"
   ]
  },
  {
   "cell_type": "markdown",
   "id": "23dbc145",
   "metadata": {},
   "source": [
    "## DBScan"
   ]
  },
  {
   "cell_type": "code",
   "execution_count": 24,
   "id": "6fa5edea",
   "metadata": {},
   "outputs": [
    {
     "data": {
      "text/plain": [
       "NearestNeighbors(n_neighbors=2)"
      ]
     },
     "execution_count": 24,
     "metadata": {},
     "output_type": "execute_result"
    }
   ],
   "source": [
    "#cari poin terdekat dari setiap data yang ada\n",
    "\n",
    "neighbors = NearestNeighbors(n_neighbors=2)\n",
    "neighbors.fit(X_train)"
   ]
  },
  {
   "cell_type": "code",
   "execution_count": 25,
   "id": "4e0a35b2",
   "metadata": {},
   "outputs": [],
   "source": [
    "#Define distance and indices\n",
    "distance, indices = neighbors.kneighbors(X_train)"
   ]
  },
  {
   "cell_type": "code",
   "execution_count": 26,
   "id": "5e0e6277",
   "metadata": {},
   "outputs": [
    {
     "data": {
      "image/png": "[encoded data removed]",
      "text/plain": [
       "<Figure size 1152x576 with 1 Axes>"
      ]
     },
     "metadata": {
      "needs_background": "light"
     },
     "output_type": "display_data"
    }
   ],
   "source": [
    "distances = np.sort(distance, axis = 0)\n",
    "\n",
    "plt.figure(figsize=(16,8))\n",
    "plt.plot(distances[:,1])\n",
    "plt.xlabel('Distance')\n",
    "plt.ylabel('Epsilon')\n",
    "plt.show()"
   ]
  },
  {
   "cell_type": "markdown",
   "id": "d15a1cbf",
   "metadata": {},
   "source": [
    "Setelah dilihat dari grafik diatas, diambil nilai epsilon kurang lebih senilai 0.5. Karena nilai epsilon tersebut terletak pada lekukan garis di K-Distance Graph"
   ]
  },
  {
   "cell_type": "code",
   "execution_count": 27,
   "id": "32b71e70",
   "metadata": {},
   "outputs": [],
   "source": [
    "#Define Model DBSCAN\n",
    "dbscan = DBSCAN(eps=0.5, min_samples=2)"
   ]
  },
  {
   "cell_type": "code",
   "execution_count": 28,
   "id": "bda3c3c8",
   "metadata": {},
   "outputs": [
    {
     "data": {
      "text/plain": [
       "DBSCAN(min_samples=2)"
      ]
     },
     "execution_count": 28,
     "metadata": {},
     "output_type": "execute_result"
    }
   ],
   "source": [
    "#Fit Model DBSCAN\n",
    "dbscan.fit(X_train)"
   ]
  },
  {
   "cell_type": "markdown",
   "id": "1a8425cc",
   "metadata": {},
   "source": [
    "# EVALUASI MODEL"
   ]
  },
  {
   "cell_type": "markdown",
   "id": "3d0b81ee",
   "metadata": {},
   "source": [
    "Pada Evaluasi Model kali ini akan membandingkan hasil klustering antara Model K-Means serta Agglomerative Clustering menggunakan PCA2D."
   ]
  },
  {
   "cell_type": "markdown",
   "id": "2a440a9f",
   "metadata": {},
   "source": [
    "### PCA 2D"
   ]
  },
  {
   "cell_type": "code",
   "execution_count": 32,
   "id": "efa3e497",
   "metadata": {
    "scrolled": false
   },
   "outputs": [
    {
     "data": {
      "text/plain": [
       "array([[-3.80336813e+00,  3.61541181e-01],\n",
       "       [-2.71144180e+00,  4.29362160e-01],\n",
       "       [-2.29422452e+00,  1.16479260e+00],\n",
       "       [-2.37394161e+00,  8.24103980e-01],\n",
       "       [-1.97967049e+00,  1.02568590e+00],\n",
       "       [-1.60738465e+00,  1.56987782e+00],\n",
       "       [-1.94946920e+00,  9.24810115e-01],\n",
       "       [-1.59992482e+00,  1.48453680e+00],\n",
       "       [-1.63032181e+00,  1.34497353e+00],\n",
       "       [-1.88181027e+00,  8.77257301e-01],\n",
       "       [-1.31072270e+00,  1.85152810e+00],\n",
       "       [-2.18549880e+00,  2.87626556e-01],\n",
       "       [-1.70827864e+00,  1.07717624e+00],\n",
       "       [-1.66456030e+00,  1.12783029e+00],\n",
       "       [-1.79344503e+00,  8.95283775e-01],\n",
       "       [-1.28609539e+00,  1.75486827e+00],\n",
       "       [-1.73177052e+00,  8.51022262e-01],\n",
       "       [-1.64043474e+00,  1.03004013e+00],\n",
       "       [-1.59783608e+00,  1.16354528e+00],\n",
       "       [-2.04751026e+00,  2.67463255e-01],\n",
       "       [-1.29962563e+00,  1.60330871e+00],\n",
       "       [-1.96650199e+00,  3.71062462e-01],\n",
       "       [-1.67506631e+00,  8.12011353e-01],\n",
       "       [-1.62037682e+00,  8.54160541e-01],\n",
       "       [-1.95297848e+00,  1.97235165e-01],\n",
       "       [-1.31719005e+00,  1.37373511e+00],\n",
       "       [-1.65124910e+00,  7.13526534e-01],\n",
       "       [-1.00133293e+00,  1.88863277e+00],\n",
       "       [-1.22399351e+00,  1.47157137e+00],\n",
       "       [-1.55272866e+00,  8.06583448e-01],\n",
       "       [-1.79461144e+00,  3.27286174e-01],\n",
       "       [-1.32405393e+00,  1.13504699e+00],\n",
       "       [-1.30705674e+00,  1.12334455e+00],\n",
       "       [-1.24194003e+00,  1.24113697e+00],\n",
       "       [-1.50613291e+00,  6.92647374e-01],\n",
       "       [-1.31113070e+00,  1.04524089e+00],\n",
       "       [-1.45131972e+00,  7.35075227e-01],\n",
       "       [-1.28316268e+00,  1.02503283e+00],\n",
       "       [-1.58535938e+00,  4.21989835e-01],\n",
       "       [-1.80065487e+00,  4.74751011e-03],\n",
       "       [-1.68146735e+00,  1.63295360e-01],\n",
       "       [-1.45309999e+00,  4.91066443e-01],\n",
       "       [-1.11596784e+00,  1.07282460e+00],\n",
       "       [-1.59340091e+00,  1.80648691e-01],\n",
       "       [-1.53278034e+00,  2.19386394e-01],\n",
       "       [-1.18991887e+00,  7.97278538e-01],\n",
       "       [-1.48887961e+00,  2.70451344e-01],\n",
       "       [-1.93219633e+00, -5.59155840e-01],\n",
       "       [-1.73198553e+00, -2.11601443e-01],\n",
       "       [-8.97346247e-01,  1.08648944e+00],\n",
       "       [-1.46996920e+00,  6.61309675e-03],\n",
       "       [-9.67522768e-01,  8.88372418e-01],\n",
       "       [-1.32263811e+00,  2.30721881e-01],\n",
       "       [-7.70006246e-01,  1.24663019e+00],\n",
       "       [-3.55826053e-01,  1.95628675e+00],\n",
       "       [-1.21309336e+00,  4.00767217e-01],\n",
       "       [-1.42001716e+00,  5.45374403e-02],\n",
       "       [-1.31665519e+00,  2.27427189e-01],\n",
       "       [-1.17347073e+00,  3.73268620e-01],\n",
       "       [-1.77148131e+00, -7.65960042e-01],\n",
       "       [-8.38332134e-01,  8.81609910e-01],\n",
       "       [-9.04252114e-01,  7.62007860e-01],\n",
       "       [-2.13316546e-01,  1.94630832e+00],\n",
       "       [-1.11220302e+00,  3.28090677e-01],\n",
       "       [-5.61729108e-01,  1.18516355e+00],\n",
       "       [-1.14431737e+00,  1.84658518e-01],\n",
       "       [-1.94896836e+00, -1.30016149e+00],\n",
       "       [-7.73960141e-02,  2.02363278e+00],\n",
       "       [-1.86767679e+00, -1.19592406e+00],\n",
       "       [-9.89841128e-01,  3.22717391e-01],\n",
       "       [-7.41059093e-01,  6.46484979e-01],\n",
       "       [-7.13407789e-01,  7.10936945e-01],\n",
       "       [-9.77818875e-01,  2.30881569e-01],\n",
       "       [-1.27926596e+00, -3.01546913e-01],\n",
       "       [-1.26262858e+00, -3.14059936e-01],\n",
       "       [-1.59009211e+00, -9.07257353e-01],\n",
       "       [-1.14201951e+00, -1.52309607e-01],\n",
       "       [-1.19115660e+00, -2.84096879e-01],\n",
       "       [ 2.17598847e-02,  1.87812310e+00],\n",
       "       [-1.13625797e+00, -2.41476546e-01],\n",
       "       [-1.10866158e+00, -1.77148294e-01],\n",
       "       [-1.43722023e+00, -7.72812798e-01],\n",
       "       [-1.16852966e+00, -2.99889649e-01],\n",
       "       [-2.30478703e+00, -2.37046706e+00],\n",
       "       [-5.00661272e-01,  8.13512942e-01],\n",
       "       [-2.22630889e-01,  1.29102920e+00],\n",
       "       [-1.80696073e+00, -1.67018841e+00],\n",
       "       [-7.82302009e-01,  1.73563927e-01],\n",
       "       [-9.14525936e-03,  1.56634266e+00],\n",
       "       [-4.32823509e-01,  7.66363002e-01],\n",
       "       [-1.09093194e+00, -5.29345441e-01],\n",
       "       [-1.45834313e+00, -1.18147537e+00],\n",
       "       [-8.26161017e-01, -4.84794239e-02],\n",
       "       [-8.47977886e-01, -1.16560594e-01],\n",
       "       [-9.69821762e-01, -3.66466223e-01],\n",
       "       [-1.03001127e+00, -4.89931682e-01],\n",
       "       [-5.26517252e-01,  4.10960719e-01],\n",
       "       [-4.42890809e-01,  5.20458183e-01],\n",
       "       [-1.21160903e+00, -8.62321405e-01],\n",
       "       [-1.86072010e-01,  9.31256864e-01],\n",
       "       [-3.42091283e-01,  7.04022981e-01],\n",
       "       [-8.25743124e-01, -2.18610381e-01],\n",
       "       [-8.75472708e-01, -3.51732428e-01],\n",
       "       [-3.92233527e-01,  4.84597767e-01],\n",
       "       [-1.91143842e-01,  8.50905198e-01],\n",
       "       [-2.19210869e-01,  7.85516685e-01],\n",
       "       [-6.31374986e-01,  6.36288908e-02],\n",
       "       [-1.16749471e+00, -9.81847651e-01],\n",
       "       [-7.14457828e-01, -2.15716331e-01],\n",
       "       [-1.40177632e-01,  8.15740738e-01],\n",
       "       [-2.85728429e-01,  4.93496012e-01],\n",
       "       [-2.44339862e+00, -3.37814171e+00],\n",
       "       [-3.91748374e-01,  3.14618334e-01],\n",
       "       [-3.46826753e-01,  3.67983163e-01],\n",
       "       [-9.58596202e-01, -8.02241622e-01],\n",
       "       [-1.78792142e+00, -2.29265411e+00],\n",
       "       [-8.92168320e-01, -6.81495365e-01],\n",
       "       [-1.02946184e+00, -9.16537566e-01],\n",
       "       [ 3.33563325e-01,  1.50959473e+00],\n",
       "       [-9.64056445e-01, -8.83468302e-01],\n",
       "       [-1.82126426e+00, -2.43885381e+00],\n",
       "       [ 2.38557695e+00,  5.16099188e+00],\n",
       "       [-4.63929397e-01, -5.90868354e-02],\n",
       "       [ 2.78298162e-01,  1.12400389e+00],\n",
       "       [-1.00993376e+00, -1.28113091e+00],\n",
       "       [-6.76574557e-01, -6.74651661e-01],\n",
       "       [ 4.11161423e-02,  6.05302666e-01],\n",
       "       [-5.64907214e-01, -4.99824544e-01],\n",
       "       [ 3.69178528e-01,  1.14769647e+00],\n",
       "       [ 4.03396993e-01,  1.12479640e+00],\n",
       "       [-2.85158759e-01, -1.04136665e-01],\n",
       "       [ 6.88550978e-02,  4.13506183e-01],\n",
       "       [ 5.79492528e-02,  4.22158194e-01],\n",
       "       [ 4.63720095e-02,  3.43924148e-01],\n",
       "       [-6.66623383e-01, -9.42225621e-01],\n",
       "       [ 1.87499961e-01,  5.01905729e-01],\n",
       "       [-4.21577751e-01, -6.10102364e-01],\n",
       "       [-2.19996989e+00, -3.86964332e+00],\n",
       "       [ 6.88902209e-01,  1.36238078e+00],\n",
       "       [-2.25037279e-01, -3.22969237e-01],\n",
       "       [ 1.26977309e+00,  1.21573347e+00],\n",
       "       [-4.72208118e-01, -8.30952568e-01],\n",
       "       [-1.75054844e-01, -3.60349955e-01],\n",
       "       [ 6.77435506e-02,  6.88572998e-02],\n",
       "       [ 3.17647423e-01,  4.97298770e-01],\n",
       "       [ 2.25296639e-02, -7.08648130e-02],\n",
       "       [ 1.46753504e-01,  9.90288990e-02],\n",
       "       [-1.53211806e+00, -3.04627011e+00],\n",
       "       [ 7.45172711e-01,  8.94874507e-01],\n",
       "       [ 7.96372739e-01,  8.60236794e-01],\n",
       "       [-1.43935408e+00, -3.41014741e+00],\n",
       "       [-9.47031670e-01, -2.48475398e+00],\n",
       "       [-7.16832582e-01, -2.05070977e+00],\n",
       "       [ 1.60271922e+00,  2.15671329e+00],\n",
       "       [-6.68418115e-01, -2.09162282e+00],\n",
       "       [-2.04312547e+00, -4.66482604e+00],\n",
       "       [ 1.42647833e+00,  1.57532532e+00],\n",
       "       [-3.75694895e-02, -1.08270947e+00],\n",
       "       [-8.09891347e-01, -2.69467362e+00],\n",
       "       [ 2.87419105e-01, -8.89385115e-01],\n",
       "       [-2.31858905e-01, -1.82583585e+00],\n",
       "       [ 1.23487109e+00,  6.50395917e-01],\n",
       "       [ 1.52105575e+00,  1.07735642e+00],\n",
       "       [ 2.81160132e-01, -1.24563017e+00],\n",
       "       [ 1.34809379e+00,  5.72281032e-01],\n",
       "       [ 1.12334717e+00,  1.48274483e-02],\n",
       "       [ 2.86805644e-01, -1.52290396e+00],\n",
       "       [ 1.03691499e+00, -3.74209788e-01],\n",
       "       [ 4.93577687e-02, -2.34831856e+00],\n",
       "       [ 9.55714546e-01, -7.68233997e-01],\n",
       "       [ 9.66302874e-01, -7.77601313e-01],\n",
       "       [ 1.15376569e+00, -4.60924532e-01],\n",
       "       [ 9.92031078e-01, -8.88554115e-01],\n",
       "       [ 1.79360663e+00,  4.47168272e-01],\n",
       "       [ 1.35061736e+00, -5.15235116e-01],\n",
       "       [ 2.84957794e-01, -2.43339867e+00],\n",
       "       [ 1.20666209e+00, -1.05495171e+00],\n",
       "       [ 2.06645683e+00,  5.35164781e-01],\n",
       "       [ 1.31863257e+00, -8.62668595e-01],\n",
       "       [ 1.27257283e+00, -1.10644286e+00],\n",
       "       [ 1.63287976e+00, -5.41402107e-01],\n",
       "       [ 1.46493167e+00, -8.80882860e-01],\n",
       "       [ 2.33137180e+00,  7.24204429e-01],\n",
       "       [ 1.62495527e+00, -6.28180264e-01],\n",
       "       [ 2.14735836e+00,  2.96378774e-01],\n",
       "       [ 1.35720574e+00, -1.26789699e+00],\n",
       "       [ 2.18443666e+00,  1.77774776e-01],\n",
       "       [ 1.48634244e+00, -1.27478101e+00],\n",
       "       [ 2.26922721e+00,  1.18822342e-01],\n",
       "       [ 1.66331987e+00, -1.03387854e+00],\n",
       "       [ 1.66331987e+00, -1.03387854e+00],\n",
       "       [ 1.72273188e+00, -1.27108248e+00],\n",
       "       [ 2.49529104e+00,  1.49253132e-01],\n",
       "       [ 2.54622774e+00,  1.14022186e-01],\n",
       "       [ 2.09664691e+00, -7.94304948e-01],\n",
       "       [ 2.22173946e+00, -7.93526591e-01],\n",
       "       [ 2.61778982e+00, -3.16876225e-01],\n",
       "       [ 2.51779021e+00, -5.32185123e-01],\n",
       "       [ 2.70187912e+00, -3.77408428e-01],\n",
       "       [ 3.09430375e+00,  2.21480427e-02],\n",
       "       [ 2.76848317e+00, -7.17329763e-01],\n",
       "       [ 3.23968990e+00,  1.86501383e-02],\n",
       "       [ 3.12180978e+00, -2.89092859e-01],\n",
       "       [ 2.22707914e+00, -2.07683295e+00],\n",
       "       [ 3.74229096e+00,  6.56441947e-01],\n",
       "       [ 3.20404778e+00, -6.43787734e-01],\n",
       "       [ 3.69796401e+00, -2.98780185e-01],\n",
       "       [ 3.19029858e+00, -1.34011971e+00],\n",
       "       [ 3.08577156e+00, -1.66777457e+00],\n",
       "       [ 3.73813910e+00, -4.27180785e-01],\n",
       "       [ 3.59927193e+00, -7.32209734e-01],\n",
       "       [ 6.43274317e+00,  4.21409311e+00],\n",
       "       [ 4.25123536e+00, -3.78950218e-01],\n",
       "       [ 4.50839552e+00,  6.36794401e-02],\n",
       "       [ 5.09267844e+00,  1.02549537e+00],\n",
       "       [ 3.93444507e+00, -1.40236544e+00],\n",
       "       [ 3.58893193e+00, -2.08406022e+00],\n",
       "       [ 4.19657695e+00, -9.65308497e-01],\n",
       "       [ 4.97045038e+00,  3.84744418e-01],\n",
       "       [ 5.92449923e+00,  1.99719318e+00],\n",
       "       [ 4.32823876e+00, -1.17079712e+00],\n",
       "       [ 3.91359956e+00, -2.25037679e+00],\n",
       "       [ 4.72104870e+00, -9.24671938e-01]])"
      ]
     },
     "execution_count": 32,
     "metadata": {},
     "output_type": "execute_result"
    }
   ],
   "source": [
    "#PCA Mode 2 D\n",
    "pca_2d = PCA(n_components=2)\n",
    "\n",
    "num_2d = pca_2d.fit_transform(num_fnt)\n",
    "num_2d"
   ]
  },
  {
   "cell_type": "markdown",
   "id": "690fdbc3",
   "metadata": {},
   "source": [
    "### KMeans"
   ]
  },
  {
   "cell_type": "code",
   "execution_count": 33,
   "id": "312c405b",
   "metadata": {},
   "outputs": [
    {
     "data": {
      "image/png": "[encoded data removed]",
      "text/plain": [
       "<Figure size 1152x576 with 1 Axes>"
      ]
     },
     "metadata": {
      "needs_background": "light"
     },
     "output_type": "display_data"
    }
   ],
   "source": [
    "#Visualisasi K-Means\n",
    "y_km_2d = km2.predict(X_train)\n",
    "\n",
    "fig, ax = plt.subplots(figsize=(16,8))\n",
    "sns.scatterplot(x = num_2d[:,0], y = num_2d[:,1], hue=y_km_2d)\n",
    "ax.set_xlabel('PC 1')\n",
    "ax.set_ylabel('PC 2')\n",
    "ax.set_title('Visualisasi K-Means')\n",
    "plt.show()"
   ]
  },
  {
   "cell_type": "markdown",
   "id": "eb875974",
   "metadata": {},
   "source": [
    "Dari perspektif 2D, kita bisa melihat di K-Means Model, dataset dibagi menjadi 2 cluster. Batas setiap cluster cukup renggang dan antara cluster 0 dan cluster 1 tidak saling menindih satu sama lain."
   ]
  },
  {
   "cell_type": "markdown",
   "id": "e43dcfcd",
   "metadata": {},
   "source": [
    "### DBScan"
   ]
  },
  {
   "cell_type": "code",
   "execution_count": 34,
   "id": "1bb59d66",
   "metadata": {},
   "outputs": [
    {
     "data": {
      "image/png": "[encoded data removed]",
      "text/plain": [
       "<Figure size 1152x576 with 1 Axes>"
      ]
     },
     "metadata": {
      "needs_background": "light"
     },
     "output_type": "display_data"
    }
   ],
   "source": [
    "y_dbscan_2d = dbscan.fit_predict(num_2d)\n",
    "\n",
    "fig, ax = plt.subplots(figsize=(16,8))\n",
    "sns.scatterplot(x = num_2d[:,0], y = num_2d[:,1], hue=y_dbscan_2d)\n",
    "ax.set_xlabel('PC 1')\n",
    "ax.set_ylabel('PC 2')\n",
    "ax.set_title('Visualisasi DBSCAN')\n",
    "plt.show()"
   ]
  },
  {
   "cell_type": "markdown",
   "id": "22fe8a87",
   "metadata": {},
   "source": [
    "Sementara untuk hasil visualisasi DBSCAN, terlihat cluster didominasi oleh warna terang atau 0 dengan nilai cluster lainnya menyebar dan tidak berkelompok.\n",
    "\n",
    "Sehingga dapat disimpulkan bahwa model terbaik untuk Dataset ini adalah model K-Means."
   ]
  },
  {
   "cell_type": "markdown",
   "id": "46cc85fa",
   "metadata": {},
   "source": [
    "# MODEL INFERENCE"
   ]
  },
  {
   "cell_type": "code",
   "execution_count": 35,
   "id": "b3a4a589",
   "metadata": {},
   "outputs": [
    {
     "data": {
      "text/html": [
       "<div>\n",
       "<style scoped>\n",
       "    .dataframe tbody tr th:only-of-type {\n",
       "        vertical-align: middle;\n",
       "    }\n",
       "\n",
       "    .dataframe tbody tr th {\n",
       "        vertical-align: top;\n",
       "    }\n",
       "\n",
       "    .dataframe thead th {\n",
       "        text-align: right;\n",
       "    }\n",
       "</style>\n",
       "<table border=\"1\" class=\"dataframe\">\n",
       "  <thead>\n",
       "    <tr style=\"text-align: right;\">\n",
       "      <th></th>\n",
       "      <th>Overall Life</th>\n",
       "      <th>Male Life</th>\n",
       "      <th>Female Life</th>\n",
       "      <th>Ratio</th>\n",
       "      <th>Difference</th>\n",
       "    </tr>\n",
       "  </thead>\n",
       "  <tbody>\n",
       "    <tr>\n",
       "      <th>9</th>\n",
       "      <td>82.5</td>\n",
       "      <td>79.9</td>\n",
       "      <td>85.4</td>\n",
       "      <td>0.935597</td>\n",
       "      <td>5.5</td>\n",
       "    </tr>\n",
       "    <tr>\n",
       "      <th>84</th>\n",
       "      <td>76.5</td>\n",
       "      <td>74.4</td>\n",
       "      <td>78.8</td>\n",
       "      <td>0.944162</td>\n",
       "      <td>4.4</td>\n",
       "    </tr>\n",
       "    <tr>\n",
       "      <th>117</th>\n",
       "      <td>74.6</td>\n",
       "      <td>71.4</td>\n",
       "      <td>78.3</td>\n",
       "      <td>0.911877</td>\n",
       "      <td>6.9</td>\n",
       "    </tr>\n",
       "    <tr>\n",
       "      <th>144</th>\n",
       "      <td>72.3</td>\n",
       "      <td>70.3</td>\n",
       "      <td>74.4</td>\n",
       "      <td>0.944892</td>\n",
       "      <td>4.1</td>\n",
       "    </tr>\n",
       "  </tbody>\n",
       "</table>\n",
       "</div>"
      ],
      "text/plain": [
       "     Overall Life  Male Life  Female Life     Ratio  Difference\n",
       "9            82.5       79.9         85.4  0.935597         5.5\n",
       "84           76.5       74.4         78.8  0.944162         4.4\n",
       "117          74.6       71.4         78.3  0.911877         6.9\n",
       "144          72.3       70.3         74.4  0.944892         4.1"
      ]
     },
     "execution_count": 35,
     "metadata": {},
     "output_type": "execute_result"
    }
   ],
   "source": [
    "#Sample Data\n",
    "random_sample = num_data.sample(n=4, random_state=42)\n",
    "random_sample"
   ]
  },
  {
   "cell_type": "code",
   "execution_count": 36,
   "id": "60324a8e",
   "metadata": {},
   "outputs": [],
   "source": [
    "#Transform Data\n",
    "random_transform = scaler.transform(random_sample)"
   ]
  },
  {
   "cell_type": "code",
   "execution_count": 37,
   "id": "b9cc1d0e",
   "metadata": {},
   "outputs": [],
   "source": [
    "#X Sample\n",
    "X_sample = pca2.transform(random_transform)"
   ]
  },
  {
   "cell_type": "code",
   "execution_count": 38,
   "id": "60903b45",
   "metadata": {},
   "outputs": [
    {
     "data": {
      "text/plain": [
       "array([0, 0, 0, 0])"
      ]
     },
     "execution_count": 38,
     "metadata": {},
     "output_type": "execute_result"
    }
   ],
   "source": [
    "#Predict using K-Means\n",
    "y_sample = km2.predict(X_sample)\n",
    "y_sample"
   ]
  },
  {
   "cell_type": "markdown",
   "id": "b61a9d62",
   "metadata": {},
   "source": [
    "Keempat data sample tersebut masuk kedalam cluster 0, 0, 0, dan 0."
   ]
  },
  {
   "cell_type": "markdown",
   "id": "3a5ff01f",
   "metadata": {},
   "source": [
    "# Kesimpulan"
   ]
  },
  {
   "cell_type": "markdown",
   "id": "b84dbc4c",
   "metadata": {},
   "source": [
    "Kesimpulan dari penelitian diatas adalah;\n",
    "\n",
    "1. EDA\n",
    "- Dataset yang digunakan sangat bersih untuk digunakan.\n",
    "- Dataset tidak memiliki missing value dan duplicated.\n",
    "- Kolom antar dataset memiliki korelasi yang kuat antar satu sama lain sehingga data tidak ada yang di drop.\n",
    "- Karena tidak ada yang di drop, maka semua kolom digunakan untuk pengujian PCA KMeans dan seterusnya.\n",
    "\n",
    "2. Model Analisa\n",
    "- Berdasarkan penerapan PCA Kumulatif Explained Var Ratio, n components digunakan sebesar 1 karena memiliki nilai toleransi sebesar 99%\n",
    "- Berdasarkan hasil perbandingan KMeans dan DBScan, model yang lebih baik adalah KMeans dikarenakan persebaran data dan klusternya lebih baik dibandingkan dengan DBScan.\n",
    "\n",
    "- Catatan: untuk melihat hasil Profiling Report, silahkan hapus # terlebih dulu dan jalankan secara manual, bukan run all. Karena jika run all grafik seperti EDA, PCA, KMeans, dan lainnya tidak muncul. Terima kasih."
   ]
  }
 ],
 "metadata": {
  "kernelspec": {
   "display_name": "Python 3",
   "language": "python",
   "name": "python3"
  },
  "language_info": {
   "codemirror_mode": {
    "name": "ipython",
    "version": 3
   },
   "file_extension": ".py",
   "mimetype": "text/x-python",
   "name": "python",
   "nbconvert_exporter": "python",
   "pygments_lexer": "ipython3",
   "version": "3.8.8"
  }
 },
 "nbformat": 4,
 "nbformat_minor": 5
}
